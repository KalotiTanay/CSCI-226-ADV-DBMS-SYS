{
  "nbformat": 4,
  "nbformat_minor": 0,
  "metadata": {
    "colab": {
      "provenance": [],
      "authorship_tag": "ABX9TyM9eWxCAX6HCbbdDlDafgnD",
      "include_colab_link": true
    },
    "kernelspec": {
      "name": "python3",
      "display_name": "Python 3"
    },
    "language_info": {
      "name": "python"
    }
  },
  "cells": [
    {
      "cell_type": "markdown",
      "metadata": {
        "id": "view-in-github",
        "colab_type": "text"
      },
      "source": [
        "<a href=\"https://colab.research.google.com/github/KalotiTanay/CSCI-226-ADV-DBMS-SYS/blob/main/XML%20and%20DTDs/validate.ipynb\" target=\"_parent\"><img src=\"https://colab.research.google.com/assets/colab-badge.svg\" alt=\"Open In Colab\"/></a>"
      ]
    },
    {
      "cell_type": "markdown",
      "source": [
        "# File Download Here"
      ],
      "metadata": {
        "id": "wVEU03JKz1h2"
      }
    },
    {
      "cell_type": "code",
      "execution_count": null,
      "metadata": {
        "colab": {
          "base_uri": "https://localhost:8080/"
        },
        "id": "b2Zx8JkJzsgh",
        "outputId": "7abcaa07-fa72-4814-cc0c-199461235ba0"
      },
      "outputs": [
        {
          "output_type": "stream",
          "name": "stdout",
          "text": [
            "Downloading...\n",
            "From (original): https://drive.google.com/uc?id=1JSFPV1uWWVSlj4iYXkvhUth06PxYucWg\n",
            "From (redirected): https://drive.google.com/uc?id=1JSFPV1uWWVSlj4iYXkvhUth06PxYucWg&confirm=t&uuid=f51c76bb-5b32-4e59-bc59-874475e2edb0\n",
            "To: /content/example.xml\n",
            "100% 526/526 [00:00<00:00, 2.11MB/s]\n",
            "Downloading...\n",
            "From (original): https://drive.google.com/uc?id=1Bgt2A4HgOYnSiD7YePoJHWigqoa-yAeF\n",
            "From (redirected): https://drive.google.com/uc?id=1Bgt2A4HgOYnSiD7YePoJHWigqoa-yAeF&confirm=t&uuid=4aae843c-96b8-4dca-86e7-9689abddfaf5\n",
            "To: /content/broken_example.xml\n",
            "100% 405/405 [00:00<00:00, 1.52MB/s]\n",
            "Downloading...\n",
            "From: https://drive.google.com/uc?id=1vsCQPOVlODBnIMMzjge-7iln3mtMh98T\n",
            "To: /content/shorts.dtd\n",
            "100% 427/427 [00:00<00:00, 1.60MB/s]\n"
          ]
        }
      ],
      "source": [
        "# Download required files here\n",
        "\n",
        "# Valid XML - `https://drive.google.com/file/d/1JSFPV1uWWVSlj4iYXkvhUth06PxYucWg/view?usp=drive_link`\n",
        "# Broken XML - `https://drive.google.com/file/d/1Bgt2A4HgOYnSiD7YePoJHWigqoa-yAeF/view?usp=drive_link`\n",
        "# DTD File - `https://drive.google.com/file/d/1vsCQPOVlODBnIMMzjge-7iln3mtMh98T/view?usp=drive_link`\n",
        "\n",
        "# XML Valid\n",
        "!gdown 1JSFPV1uWWVSlj4iYXkvhUth06PxYucWg -O example.xml\n",
        "# XML Broken\n",
        "!gdown 1Bgt2A4HgOYnSiD7YePoJHWigqoa-yAeF -O broken_example.xml\n",
        "# DTD File\n",
        "!gdown 1vsCQPOVlODBnIMMzjge-7iln3mtMh98T -O shorts.dtd"
      ]
    },
    {
      "cell_type": "markdown",
      "source": [
        "# Manage Dependancies Here"
      ],
      "metadata": {
        "id": "40Va5F110I-3"
      }
    },
    {
      "cell_type": "code",
      "source": [
        "!pip -q install lxml pygments"
      ],
      "metadata": {
        "id": "GlT9LSZY0FVn"
      },
      "execution_count": null,
      "outputs": []
    },
    {
      "cell_type": "markdown",
      "source": [
        "# XML Validation [Valid XML]"
      ],
      "metadata": {
        "id": "FH38fdPm0Rpe"
      }
    },
    {
      "cell_type": "code",
      "source": [
        "from lxml import etree\n",
        "\n",
        "# Load DTD\n",
        "with open(\"shorts.dtd\", \"rb\") as f:\n",
        "    dtd = etree.DTD(f)\n",
        "\n",
        "# Parse XML\n",
        "tree = etree.parse(\"example.xml\")\n",
        "\n",
        "# Validate\n",
        "if dtd.validate(tree):\n",
        "    print(\"XML is valid ✅\")\n",
        "else:\n",
        "    print(\"XML is NOT valid ❌\")\n",
        "    print(dtd.error_log.filter_from_errors())"
      ],
      "metadata": {
        "colab": {
          "base_uri": "https://localhost:8080/"
        },
        "id": "vRSTd0uM07Hx",
        "outputId": "00bd7b05-6860-494b-8f28-955a56018721"
      },
      "execution_count": null,
      "outputs": [
        {
          "output_type": "stream",
          "name": "stdout",
          "text": [
            "XML is valid ✅\n"
          ]
        }
      ]
    },
    {
      "cell_type": "markdown",
      "source": [
        "# XML Validation [Invalid XML]"
      ],
      "metadata": {
        "id": "6AVbz22K0fry"
      }
    },
    {
      "cell_type": "code",
      "source": [
        "from lxml import etree\n",
        "\n",
        "with open(\"shorts.dtd\", \"rb\") as f:\n",
        "    dtd = etree.DTD(f)\n",
        "\n",
        "tree = etree.parse(\"broken_example.xml\")\n",
        "\n",
        "if dtd.validate(tree):\n",
        "    print(\"XML is valid ✅\")\n",
        "else:\n",
        "    print(\"XML is NOT valid ❌\")\n",
        "    print(dtd.error_log.filter_from_errors())"
      ],
      "metadata": {
        "colab": {
          "base_uri": "https://localhost:8080/"
        },
        "id": "fUka6mIM07lQ",
        "outputId": "213af846-0ff1-4662-9a0a-74071bebd426"
      },
      "execution_count": null,
      "outputs": [
        {
          "output_type": "stream",
          "name": "stdout",
          "text": [
            "XML is NOT valid ❌\n",
            "broken_example.xml:3:0:ERROR:VALID:DTD_CONTENT_MODEL: Element news content does not follow the DTD, expecting (title , summary , category , publishTime , engagement , source , sentiment), got (title category publishTime engagement source sentiment )\n"
          ]
        }
      ]
    },
    {
      "cell_type": "markdown",
      "source": [
        "# Inspect Files"
      ],
      "metadata": {
        "id": "MwG63fVj0our"
      }
    },
    {
      "cell_type": "code",
      "source": [
        "from lxml import etree\n",
        "from IPython.display import HTML, display\n",
        "from pygments import highlight\n",
        "from pygments.lexers import XmlLexer, DtdLexer\n",
        "from pygments.formatters import HtmlFormatter\n",
        "\n",
        "def pretty_xml_text(path: str) -> str:\n",
        "    \"\"\"Load XML and return an indented, unicode string.\"\"\"\n",
        "    parser = etree.XMLParser(remove_blank_text=True)\n",
        "    tree = etree.parse(path, parser)\n",
        "    return etree.tostring(tree, pretty_print=True, encoding=\"unicode\")\n",
        "\n",
        "def show_code(text: str, lexer, title: str = None, max_height: str = \"480px\"):\n",
        "    \"\"\"Render syntax-highlighted code with line numbers in a scrollable box.\"\"\"\n",
        "    formatter = HtmlFormatter(linenos=\"table\", style=\"friendly\")\n",
        "    css = formatter.get_style_defs('.highlight')\n",
        "    html = [f\"<style>{css}.codebox{{border:1px solid #e5e7eb;border-radius:10px;overflow:auto;max-height:{max_height}}}.title{{font-weight:600;margin:4px 0 8px}}</style>\"]\n",
        "    if title:\n",
        "        html.append(f'<div class=\"title\">{title}</div>')\n",
        "    html.append(f'<div class=\"codebox\">{highlight(text, lexer, formatter)}</div>')\n",
        "    display(HTML(\"\".join(html)))\n",
        "\n",
        "# Show the pretty XML and the DTD (side by side calls)\n",
        "show_code(pretty_xml_text(\"example.xml\"), XmlLexer(), \"example.xml (pretty-printed)\")\n",
        "show_code(open(\"shorts.dtd\", encoding=\"utf-8\").read(), DtdLexer(), \"shorts.dtd\")"
      ],
      "metadata": {
        "colab": {
          "base_uri": "https://localhost:8080/",
          "height": 582
        },
        "id": "WuKBDM8Y08pf",
        "outputId": "ce8ae935-7138-4532-9675-1b9da2d003ef"
      },
      "execution_count": null,
      "outputs": [
        {
          "output_type": "display_data",
          "data": {
            "text/plain": [
              "<IPython.core.display.HTML object>"
            ],
            "text/html": [
              "<style>pre { line-height: 125%; }\n",
              "td.linenos .normal { color: #666666; background-color: transparent; padding-left: 5px; padding-right: 5px; }\n",
              "span.linenos { color: #666666; background-color: transparent; padding-left: 5px; padding-right: 5px; }\n",
              "td.linenos .special { color: #000000; background-color: #ffffc0; padding-left: 5px; padding-right: 5px; }\n",
              "span.linenos.special { color: #000000; background-color: #ffffc0; padding-left: 5px; padding-right: 5px; }\n",
              ".highlight .hll { background-color: #ffffcc }\n",
              ".highlight { background: #f0f0f0; }\n",
              ".highlight .c { color: #60A0B0; font-style: italic } /* Comment */\n",
              ".highlight .err { border: 1px solid #F00 } /* Error */\n",
              ".highlight .k { color: #007020; font-weight: bold } /* Keyword */\n",
              ".highlight .o { color: #666 } /* Operator */\n",
              ".highlight .ch { color: #60A0B0; font-style: italic } /* Comment.Hashbang */\n",
              ".highlight .cm { color: #60A0B0; font-style: italic } /* Comment.Multiline */\n",
              ".highlight .cp { color: #007020 } /* Comment.Preproc */\n",
              ".highlight .cpf { color: #60A0B0; font-style: italic } /* Comment.PreprocFile */\n",
              ".highlight .c1 { color: #60A0B0; font-style: italic } /* Comment.Single */\n",
              ".highlight .cs { color: #60A0B0; background-color: #FFF0F0 } /* Comment.Special */\n",
              ".highlight .gd { color: #A00000 } /* Generic.Deleted */\n",
              ".highlight .ge { font-style: italic } /* Generic.Emph */\n",
              ".highlight .ges { font-weight: bold; font-style: italic } /* Generic.EmphStrong */\n",
              ".highlight .gr { color: #F00 } /* Generic.Error */\n",
              ".highlight .gh { color: #000080; font-weight: bold } /* Generic.Heading */\n",
              ".highlight .gi { color: #00A000 } /* Generic.Inserted */\n",
              ".highlight .go { color: #888 } /* Generic.Output */\n",
              ".highlight .gp { color: #C65D09; font-weight: bold } /* Generic.Prompt */\n",
              ".highlight .gs { font-weight: bold } /* Generic.Strong */\n",
              ".highlight .gu { color: #800080; font-weight: bold } /* Generic.Subheading */\n",
              ".highlight .gt { color: #04D } /* Generic.Traceback */\n",
              ".highlight .kc { color: #007020; font-weight: bold } /* Keyword.Constant */\n",
              ".highlight .kd { color: #007020; font-weight: bold } /* Keyword.Declaration */\n",
              ".highlight .kn { color: #007020; font-weight: bold } /* Keyword.Namespace */\n",
              ".highlight .kp { color: #007020 } /* Keyword.Pseudo */\n",
              ".highlight .kr { color: #007020; font-weight: bold } /* Keyword.Reserved */\n",
              ".highlight .kt { color: #902000 } /* Keyword.Type */\n",
              ".highlight .m { color: #40A070 } /* Literal.Number */\n",
              ".highlight .s { color: #4070A0 } /* Literal.String */\n",
              ".highlight .na { color: #4070A0 } /* Name.Attribute */\n",
              ".highlight .nb { color: #007020 } /* Name.Builtin */\n",
              ".highlight .nc { color: #0E84B5; font-weight: bold } /* Name.Class */\n",
              ".highlight .no { color: #60ADD5 } /* Name.Constant */\n",
              ".highlight .nd { color: #555; font-weight: bold } /* Name.Decorator */\n",
              ".highlight .ni { color: #D55537; font-weight: bold } /* Name.Entity */\n",
              ".highlight .ne { color: #007020 } /* Name.Exception */\n",
              ".highlight .nf { color: #06287E } /* Name.Function */\n",
              ".highlight .nl { color: #002070; font-weight: bold } /* Name.Label */\n",
              ".highlight .nn { color: #0E84B5; font-weight: bold } /* Name.Namespace */\n",
              ".highlight .nt { color: #062873; font-weight: bold } /* Name.Tag */\n",
              ".highlight .nv { color: #BB60D5 } /* Name.Variable */\n",
              ".highlight .ow { color: #007020; font-weight: bold } /* Operator.Word */\n",
              ".highlight .w { color: #BBB } /* Text.Whitespace */\n",
              ".highlight .mb { color: #40A070 } /* Literal.Number.Bin */\n",
              ".highlight .mf { color: #40A070 } /* Literal.Number.Float */\n",
              ".highlight .mh { color: #40A070 } /* Literal.Number.Hex */\n",
              ".highlight .mi { color: #40A070 } /* Literal.Number.Integer */\n",
              ".highlight .mo { color: #40A070 } /* Literal.Number.Oct */\n",
              ".highlight .sa { color: #4070A0 } /* Literal.String.Affix */\n",
              ".highlight .sb { color: #4070A0 } /* Literal.String.Backtick */\n",
              ".highlight .sc { color: #4070A0 } /* Literal.String.Char */\n",
              ".highlight .dl { color: #4070A0 } /* Literal.String.Delimiter */\n",
              ".highlight .sd { color: #4070A0; font-style: italic } /* Literal.String.Doc */\n",
              ".highlight .s2 { color: #4070A0 } /* Literal.String.Double */\n",
              ".highlight .se { color: #4070A0; font-weight: bold } /* Literal.String.Escape */\n",
              ".highlight .sh { color: #4070A0 } /* Literal.String.Heredoc */\n",
              ".highlight .si { color: #70A0D0; font-style: italic } /* Literal.String.Interpol */\n",
              ".highlight .sx { color: #C65D09 } /* Literal.String.Other */\n",
              ".highlight .sr { color: #235388 } /* Literal.String.Regex */\n",
              ".highlight .s1 { color: #4070A0 } /* Literal.String.Single */\n",
              ".highlight .ss { color: #517918 } /* Literal.String.Symbol */\n",
              ".highlight .bp { color: #007020 } /* Name.Builtin.Pseudo */\n",
              ".highlight .fm { color: #06287E } /* Name.Function.Magic */\n",
              ".highlight .vc { color: #BB60D5 } /* Name.Variable.Class */\n",
              ".highlight .vg { color: #BB60D5 } /* Name.Variable.Global */\n",
              ".highlight .vi { color: #BB60D5 } /* Name.Variable.Instance */\n",
              ".highlight .vm { color: #BB60D5 } /* Name.Variable.Magic */\n",
              ".highlight .il { color: #40A070 } /* Literal.Number.Integer.Long */.codebox{border:1px solid #e5e7eb;border-radius:10px;overflow:auto;max-height:480px}.title{font-weight:600;margin:4px 0 8px}</style><div class=\"title\">example.xml (pretty-printed)</div><div class=\"codebox\"><div class=\"highlight\"><table class=\"highlighttable\"><tr><td class=\"linenos\"><div class=\"linenodiv\"><pre><span class=\"normal\"> 1</span>\n",
              "<span class=\"normal\"> 2</span>\n",
              "<span class=\"normal\"> 3</span>\n",
              "<span class=\"normal\"> 4</span>\n",
              "<span class=\"normal\"> 5</span>\n",
              "<span class=\"normal\"> 6</span>\n",
              "<span class=\"normal\"> 7</span>\n",
              "<span class=\"normal\"> 8</span>\n",
              "<span class=\"normal\"> 9</span>\n",
              "<span class=\"normal\">10</span>\n",
              "<span class=\"normal\">11</span>\n",
              "<span class=\"normal\">12</span>\n",
              "<span class=\"normal\">13</span>\n",
              "<span class=\"normal\">14</span>\n",
              "<span class=\"normal\">15</span>\n",
              "<span class=\"normal\">16</span></pre></div></td><td class=\"code\"><div><pre><span></span><span class=\"cp\">&lt;!DOCTYPE news SYSTEM &quot;domain.dtd&quot;&gt;</span>\n",
              "<span class=\"nt\">&lt;news&gt;</span>\n",
              "<span class=\"w\">  </span><span class=\"nt\">&lt;title&gt;</span>AI<span class=\"w\"> </span>Beats<span class=\"w\"> </span>Human<span class=\"w\"> </span>at<span class=\"w\"> </span>Strategy<span class=\"w\"> </span>Game<span class=\"nt\">&lt;/title&gt;</span>\n",
              "<span class=\"w\">  </span><span class=\"nt\">&lt;summary&gt;</span>An<span class=\"w\"> </span>AI<span class=\"w\"> </span>system<span class=\"w\"> </span>has<span class=\"w\"> </span>defeated<span class=\"w\"> </span>top<span class=\"w\"> </span>players<span class=\"w\"> </span>in<span class=\"w\"> </span>a<span class=\"w\"> </span>new<span class=\"w\"> </span>strategy<span class=\"w\"> </span>game,<span class=\"w\"> </span>raising<span class=\"w\"> </span>questions<span class=\"w\"> </span>about<span class=\"w\"> </span>AI<span class=\"w\"> </span>potential.<span class=\"nt\">&lt;/summary&gt;</span>\n",
              "<span class=\"w\">  </span><span class=\"nt\">&lt;category&gt;</span>Technology<span class=\"nt\">&lt;/category&gt;</span>\n",
              "<span class=\"w\">  </span><span class=\"nt\">&lt;publishTime&gt;</span>2025-08-31T09:00:00Z<span class=\"nt\">&lt;/publishTime&gt;</span>\n",
              "<span class=\"w\">  </span><span class=\"nt\">&lt;engagement&gt;</span>\n",
              "<span class=\"w\">    </span><span class=\"nt\">&lt;views&gt;</span>15000<span class=\"nt\">&lt;/views&gt;</span>\n",
              "<span class=\"w\">    </span><span class=\"nt\">&lt;shares&gt;</span>600<span class=\"nt\">&lt;/shares&gt;</span>\n",
              "<span class=\"w\">  </span><span class=\"nt\">&lt;/engagement&gt;</span>\n",
              "<span class=\"w\">  </span><span class=\"nt\">&lt;source&gt;</span>\n",
              "<span class=\"w\">    </span><span class=\"nt\">&lt;name&gt;</span>BBC<span class=\"w\"> </span>News<span class=\"nt\">&lt;/name&gt;</span>\n",
              "<span class=\"w\">    </span><span class=\"nt\">&lt;credibility&gt;</span>high<span class=\"nt\">&lt;/credibility&gt;</span>\n",
              "<span class=\"w\">  </span><span class=\"nt\">&lt;/source&gt;</span>\n",
              "<span class=\"w\">  </span><span class=\"nt\">&lt;sentiment&gt;</span>neutral<span class=\"nt\">&lt;/sentiment&gt;</span>\n",
              "<span class=\"nt\">&lt;/news&gt;</span>\n",
              "</pre></div></td></tr></table></div>\n",
              "</div>"
            ]
          },
          "metadata": {}
        },
        {
          "output_type": "display_data",
          "data": {
            "text/plain": [
              "<IPython.core.display.HTML object>"
            ],
            "text/html": [
              "<style>pre { line-height: 125%; }\n",
              "td.linenos .normal { color: #666666; background-color: transparent; padding-left: 5px; padding-right: 5px; }\n",
              "span.linenos { color: #666666; background-color: transparent; padding-left: 5px; padding-right: 5px; }\n",
              "td.linenos .special { color: #000000; background-color: #ffffc0; padding-left: 5px; padding-right: 5px; }\n",
              "span.linenos.special { color: #000000; background-color: #ffffc0; padding-left: 5px; padding-right: 5px; }\n",
              ".highlight .hll { background-color: #ffffcc }\n",
              ".highlight { background: #f0f0f0; }\n",
              ".highlight .c { color: #60A0B0; font-style: italic } /* Comment */\n",
              ".highlight .err { border: 1px solid #F00 } /* Error */\n",
              ".highlight .k { color: #007020; font-weight: bold } /* Keyword */\n",
              ".highlight .o { color: #666 } /* Operator */\n",
              ".highlight .ch { color: #60A0B0; font-style: italic } /* Comment.Hashbang */\n",
              ".highlight .cm { color: #60A0B0; font-style: italic } /* Comment.Multiline */\n",
              ".highlight .cp { color: #007020 } /* Comment.Preproc */\n",
              ".highlight .cpf { color: #60A0B0; font-style: italic } /* Comment.PreprocFile */\n",
              ".highlight .c1 { color: #60A0B0; font-style: italic } /* Comment.Single */\n",
              ".highlight .cs { color: #60A0B0; background-color: #FFF0F0 } /* Comment.Special */\n",
              ".highlight .gd { color: #A00000 } /* Generic.Deleted */\n",
              ".highlight .ge { font-style: italic } /* Generic.Emph */\n",
              ".highlight .ges { font-weight: bold; font-style: italic } /* Generic.EmphStrong */\n",
              ".highlight .gr { color: #F00 } /* Generic.Error */\n",
              ".highlight .gh { color: #000080; font-weight: bold } /* Generic.Heading */\n",
              ".highlight .gi { color: #00A000 } /* Generic.Inserted */\n",
              ".highlight .go { color: #888 } /* Generic.Output */\n",
              ".highlight .gp { color: #C65D09; font-weight: bold } /* Generic.Prompt */\n",
              ".highlight .gs { font-weight: bold } /* Generic.Strong */\n",
              ".highlight .gu { color: #800080; font-weight: bold } /* Generic.Subheading */\n",
              ".highlight .gt { color: #04D } /* Generic.Traceback */\n",
              ".highlight .kc { color: #007020; font-weight: bold } /* Keyword.Constant */\n",
              ".highlight .kd { color: #007020; font-weight: bold } /* Keyword.Declaration */\n",
              ".highlight .kn { color: #007020; font-weight: bold } /* Keyword.Namespace */\n",
              ".highlight .kp { color: #007020 } /* Keyword.Pseudo */\n",
              ".highlight .kr { color: #007020; font-weight: bold } /* Keyword.Reserved */\n",
              ".highlight .kt { color: #902000 } /* Keyword.Type */\n",
              ".highlight .m { color: #40A070 } /* Literal.Number */\n",
              ".highlight .s { color: #4070A0 } /* Literal.String */\n",
              ".highlight .na { color: #4070A0 } /* Name.Attribute */\n",
              ".highlight .nb { color: #007020 } /* Name.Builtin */\n",
              ".highlight .nc { color: #0E84B5; font-weight: bold } /* Name.Class */\n",
              ".highlight .no { color: #60ADD5 } /* Name.Constant */\n",
              ".highlight .nd { color: #555; font-weight: bold } /* Name.Decorator */\n",
              ".highlight .ni { color: #D55537; font-weight: bold } /* Name.Entity */\n",
              ".highlight .ne { color: #007020 } /* Name.Exception */\n",
              ".highlight .nf { color: #06287E } /* Name.Function */\n",
              ".highlight .nl { color: #002070; font-weight: bold } /* Name.Label */\n",
              ".highlight .nn { color: #0E84B5; font-weight: bold } /* Name.Namespace */\n",
              ".highlight .nt { color: #062873; font-weight: bold } /* Name.Tag */\n",
              ".highlight .nv { color: #BB60D5 } /* Name.Variable */\n",
              ".highlight .ow { color: #007020; font-weight: bold } /* Operator.Word */\n",
              ".highlight .w { color: #BBB } /* Text.Whitespace */\n",
              ".highlight .mb { color: #40A070 } /* Literal.Number.Bin */\n",
              ".highlight .mf { color: #40A070 } /* Literal.Number.Float */\n",
              ".highlight .mh { color: #40A070 } /* Literal.Number.Hex */\n",
              ".highlight .mi { color: #40A070 } /* Literal.Number.Integer */\n",
              ".highlight .mo { color: #40A070 } /* Literal.Number.Oct */\n",
              ".highlight .sa { color: #4070A0 } /* Literal.String.Affix */\n",
              ".highlight .sb { color: #4070A0 } /* Literal.String.Backtick */\n",
              ".highlight .sc { color: #4070A0 } /* Literal.String.Char */\n",
              ".highlight .dl { color: #4070A0 } /* Literal.String.Delimiter */\n",
              ".highlight .sd { color: #4070A0; font-style: italic } /* Literal.String.Doc */\n",
              ".highlight .s2 { color: #4070A0 } /* Literal.String.Double */\n",
              ".highlight .se { color: #4070A0; font-weight: bold } /* Literal.String.Escape */\n",
              ".highlight .sh { color: #4070A0 } /* Literal.String.Heredoc */\n",
              ".highlight .si { color: #70A0D0; font-style: italic } /* Literal.String.Interpol */\n",
              ".highlight .sx { color: #C65D09 } /* Literal.String.Other */\n",
              ".highlight .sr { color: #235388 } /* Literal.String.Regex */\n",
              ".highlight .s1 { color: #4070A0 } /* Literal.String.Single */\n",
              ".highlight .ss { color: #517918 } /* Literal.String.Symbol */\n",
              ".highlight .bp { color: #007020 } /* Name.Builtin.Pseudo */\n",
              ".highlight .fm { color: #06287E } /* Name.Function.Magic */\n",
              ".highlight .vc { color: #BB60D5 } /* Name.Variable.Class */\n",
              ".highlight .vg { color: #BB60D5 } /* Name.Variable.Global */\n",
              ".highlight .vi { color: #BB60D5 } /* Name.Variable.Instance */\n",
              ".highlight .vm { color: #BB60D5 } /* Name.Variable.Magic */\n",
              ".highlight .il { color: #40A070 } /* Literal.Number.Integer.Long */.codebox{border:1px solid #e5e7eb;border-radius:10px;overflow:auto;max-height:480px}.title{font-weight:600;margin:4px 0 8px}</style><div class=\"title\">shorts.dtd</div><div class=\"codebox\"><div class=\"highlight\"><table class=\"highlighttable\"><tr><td class=\"linenos\"><div class=\"linenodiv\"><pre><span class=\"normal\"> 1</span>\n",
              "<span class=\"normal\"> 2</span>\n",
              "<span class=\"normal\"> 3</span>\n",
              "<span class=\"normal\"> 4</span>\n",
              "<span class=\"normal\"> 5</span>\n",
              "<span class=\"normal\"> 6</span>\n",
              "<span class=\"normal\"> 7</span>\n",
              "<span class=\"normal\"> 8</span>\n",
              "<span class=\"normal\"> 9</span>\n",
              "<span class=\"normal\">10</span>\n",
              "<span class=\"normal\">11</span>\n",
              "<span class=\"normal\">12</span></pre></div></td><td class=\"code\"><div><pre><span></span><span class=\"k\">&lt;!ELEMENT</span> <span class=\"nt\">news</span> <span class=\"o\">(</span><span class=\"nt\">title</span><span class=\"o\">,</span> <span class=\"nt\">summary</span><span class=\"o\">,</span> <span class=\"nt\">category</span><span class=\"o\">,</span> <span class=\"nt\">publishTime</span><span class=\"o\">,</span> <span class=\"nt\">engagement</span><span class=\"o\">,</span> <span class=\"nt\">source</span><span class=\"o\">,</span> <span class=\"nt\">sentiment</span><span class=\"o\">)</span><span class=\"k\">&gt;</span>\n",
              "<span class=\"k\">&lt;!ELEMENT</span> <span class=\"nt\">title</span> <span class=\"o\">(</span><span class=\"kc\">#PCDATA</span><span class=\"o\">)</span><span class=\"k\">&gt;</span>\n",
              "<span class=\"k\">&lt;!ELEMENT</span> <span class=\"nt\">summary</span> <span class=\"o\">(</span><span class=\"kc\">#PCDATA</span><span class=\"o\">)</span><span class=\"k\">&gt;</span>\n",
              "<span class=\"k\">&lt;!ELEMENT</span> <span class=\"nt\">category</span> <span class=\"o\">(</span><span class=\"kc\">#PCDATA</span><span class=\"o\">)</span><span class=\"k\">&gt;</span>\n",
              "<span class=\"k\">&lt;!ELEMENT</span> <span class=\"nt\">publishTime</span> <span class=\"o\">(</span><span class=\"kc\">#PCDATA</span><span class=\"o\">)</span><span class=\"k\">&gt;</span>\n",
              "<span class=\"k\">&lt;!ELEMENT</span> <span class=\"nt\">engagement</span> <span class=\"o\">(</span><span class=\"nt\">views</span><span class=\"o\">,</span> <span class=\"nt\">shares</span><span class=\"o\">)</span><span class=\"k\">&gt;</span>\n",
              "<span class=\"k\">&lt;!ELEMENT</span> <span class=\"nt\">views</span> <span class=\"o\">(</span><span class=\"kc\">#PCDATA</span><span class=\"o\">)</span><span class=\"k\">&gt;</span>\n",
              "<span class=\"k\">&lt;!ELEMENT</span> <span class=\"nt\">shares</span> <span class=\"o\">(</span><span class=\"kc\">#PCDATA</span><span class=\"o\">)</span><span class=\"k\">&gt;</span>\n",
              "<span class=\"k\">&lt;!ELEMENT</span> <span class=\"nt\">source</span> <span class=\"o\">(</span><span class=\"nt\">name</span><span class=\"o\">,</span> <span class=\"nt\">credibility</span><span class=\"o\">)</span><span class=\"k\">&gt;</span>\n",
              "<span class=\"k\">&lt;!ELEMENT</span> <span class=\"nt\">name</span> <span class=\"o\">(</span><span class=\"kc\">#PCDATA</span><span class=\"o\">)</span><span class=\"k\">&gt;</span>\n",
              "<span class=\"k\">&lt;!ELEMENT</span> <span class=\"nt\">credibility</span> <span class=\"o\">(</span><span class=\"kc\">#PCDATA</span><span class=\"o\">)</span><span class=\"k\">&gt;</span>\n",
              "<span class=\"k\">&lt;!ELEMENT</span> <span class=\"nt\">sentiment</span> <span class=\"o\">(</span><span class=\"kc\">#PCDATA</span><span class=\"o\">)</span><span class=\"k\">&gt;</span>\n",
              "</pre></div></td></tr></table></div>\n",
              "</div>"
            ]
          },
          "metadata": {}
        }
      ]
    },
    {
      "cell_type": "code",
      "source": [
        "show_code(pretty_xml_text(\"broken_example.xml\"), XmlLexer(), \"broken_example.xml (pretty-printed)\")"
      ],
      "metadata": {
        "colab": {
          "base_uri": "https://localhost:8080/",
          "height": 317
        },
        "id": "14EZRUxp08KD",
        "outputId": "470f834d-9898-48a5-9f1e-a09661c674b7"
      },
      "execution_count": null,
      "outputs": [
        {
          "output_type": "display_data",
          "data": {
            "text/plain": [
              "<IPython.core.display.HTML object>"
            ],
            "text/html": [
              "<style>pre { line-height: 125%; }\n",
              "td.linenos .normal { color: #666666; background-color: transparent; padding-left: 5px; padding-right: 5px; }\n",
              "span.linenos { color: #666666; background-color: transparent; padding-left: 5px; padding-right: 5px; }\n",
              "td.linenos .special { color: #000000; background-color: #ffffc0; padding-left: 5px; padding-right: 5px; }\n",
              "span.linenos.special { color: #000000; background-color: #ffffc0; padding-left: 5px; padding-right: 5px; }\n",
              ".highlight .hll { background-color: #ffffcc }\n",
              ".highlight { background: #f0f0f0; }\n",
              ".highlight .c { color: #60A0B0; font-style: italic } /* Comment */\n",
              ".highlight .err { border: 1px solid #F00 } /* Error */\n",
              ".highlight .k { color: #007020; font-weight: bold } /* Keyword */\n",
              ".highlight .o { color: #666 } /* Operator */\n",
              ".highlight .ch { color: #60A0B0; font-style: italic } /* Comment.Hashbang */\n",
              ".highlight .cm { color: #60A0B0; font-style: italic } /* Comment.Multiline */\n",
              ".highlight .cp { color: #007020 } /* Comment.Preproc */\n",
              ".highlight .cpf { color: #60A0B0; font-style: italic } /* Comment.PreprocFile */\n",
              ".highlight .c1 { color: #60A0B0; font-style: italic } /* Comment.Single */\n",
              ".highlight .cs { color: #60A0B0; background-color: #FFF0F0 } /* Comment.Special */\n",
              ".highlight .gd { color: #A00000 } /* Generic.Deleted */\n",
              ".highlight .ge { font-style: italic } /* Generic.Emph */\n",
              ".highlight .ges { font-weight: bold; font-style: italic } /* Generic.EmphStrong */\n",
              ".highlight .gr { color: #F00 } /* Generic.Error */\n",
              ".highlight .gh { color: #000080; font-weight: bold } /* Generic.Heading */\n",
              ".highlight .gi { color: #00A000 } /* Generic.Inserted */\n",
              ".highlight .go { color: #888 } /* Generic.Output */\n",
              ".highlight .gp { color: #C65D09; font-weight: bold } /* Generic.Prompt */\n",
              ".highlight .gs { font-weight: bold } /* Generic.Strong */\n",
              ".highlight .gu { color: #800080; font-weight: bold } /* Generic.Subheading */\n",
              ".highlight .gt { color: #04D } /* Generic.Traceback */\n",
              ".highlight .kc { color: #007020; font-weight: bold } /* Keyword.Constant */\n",
              ".highlight .kd { color: #007020; font-weight: bold } /* Keyword.Declaration */\n",
              ".highlight .kn { color: #007020; font-weight: bold } /* Keyword.Namespace */\n",
              ".highlight .kp { color: #007020 } /* Keyword.Pseudo */\n",
              ".highlight .kr { color: #007020; font-weight: bold } /* Keyword.Reserved */\n",
              ".highlight .kt { color: #902000 } /* Keyword.Type */\n",
              ".highlight .m { color: #40A070 } /* Literal.Number */\n",
              ".highlight .s { color: #4070A0 } /* Literal.String */\n",
              ".highlight .na { color: #4070A0 } /* Name.Attribute */\n",
              ".highlight .nb { color: #007020 } /* Name.Builtin */\n",
              ".highlight .nc { color: #0E84B5; font-weight: bold } /* Name.Class */\n",
              ".highlight .no { color: #60ADD5 } /* Name.Constant */\n",
              ".highlight .nd { color: #555; font-weight: bold } /* Name.Decorator */\n",
              ".highlight .ni { color: #D55537; font-weight: bold } /* Name.Entity */\n",
              ".highlight .ne { color: #007020 } /* Name.Exception */\n",
              ".highlight .nf { color: #06287E } /* Name.Function */\n",
              ".highlight .nl { color: #002070; font-weight: bold } /* Name.Label */\n",
              ".highlight .nn { color: #0E84B5; font-weight: bold } /* Name.Namespace */\n",
              ".highlight .nt { color: #062873; font-weight: bold } /* Name.Tag */\n",
              ".highlight .nv { color: #BB60D5 } /* Name.Variable */\n",
              ".highlight .ow { color: #007020; font-weight: bold } /* Operator.Word */\n",
              ".highlight .w { color: #BBB } /* Text.Whitespace */\n",
              ".highlight .mb { color: #40A070 } /* Literal.Number.Bin */\n",
              ".highlight .mf { color: #40A070 } /* Literal.Number.Float */\n",
              ".highlight .mh { color: #40A070 } /* Literal.Number.Hex */\n",
              ".highlight .mi { color: #40A070 } /* Literal.Number.Integer */\n",
              ".highlight .mo { color: #40A070 } /* Literal.Number.Oct */\n",
              ".highlight .sa { color: #4070A0 } /* Literal.String.Affix */\n",
              ".highlight .sb { color: #4070A0 } /* Literal.String.Backtick */\n",
              ".highlight .sc { color: #4070A0 } /* Literal.String.Char */\n",
              ".highlight .dl { color: #4070A0 } /* Literal.String.Delimiter */\n",
              ".highlight .sd { color: #4070A0; font-style: italic } /* Literal.String.Doc */\n",
              ".highlight .s2 { color: #4070A0 } /* Literal.String.Double */\n",
              ".highlight .se { color: #4070A0; font-weight: bold } /* Literal.String.Escape */\n",
              ".highlight .sh { color: #4070A0 } /* Literal.String.Heredoc */\n",
              ".highlight .si { color: #70A0D0; font-style: italic } /* Literal.String.Interpol */\n",
              ".highlight .sx { color: #C65D09 } /* Literal.String.Other */\n",
              ".highlight .sr { color: #235388 } /* Literal.String.Regex */\n",
              ".highlight .s1 { color: #4070A0 } /* Literal.String.Single */\n",
              ".highlight .ss { color: #517918 } /* Literal.String.Symbol */\n",
              ".highlight .bp { color: #007020 } /* Name.Builtin.Pseudo */\n",
              ".highlight .fm { color: #06287E } /* Name.Function.Magic */\n",
              ".highlight .vc { color: #BB60D5 } /* Name.Variable.Class */\n",
              ".highlight .vg { color: #BB60D5 } /* Name.Variable.Global */\n",
              ".highlight .vi { color: #BB60D5 } /* Name.Variable.Instance */\n",
              ".highlight .vm { color: #BB60D5 } /* Name.Variable.Magic */\n",
              ".highlight .il { color: #40A070 } /* Literal.Number.Integer.Long */.codebox{border:1px solid #e5e7eb;border-radius:10px;overflow:auto;max-height:480px}.title{font-weight:600;margin:4px 0 8px}</style><div class=\"title\">broken_example.xml (pretty-printed)</div><div class=\"codebox\"><div class=\"highlight\"><table class=\"highlighttable\"><tr><td class=\"linenos\"><div class=\"linenodiv\"><pre><span class=\"normal\"> 1</span>\n",
              "<span class=\"normal\"> 2</span>\n",
              "<span class=\"normal\"> 3</span>\n",
              "<span class=\"normal\"> 4</span>\n",
              "<span class=\"normal\"> 5</span>\n",
              "<span class=\"normal\"> 6</span>\n",
              "<span class=\"normal\"> 7</span>\n",
              "<span class=\"normal\"> 8</span>\n",
              "<span class=\"normal\"> 9</span>\n",
              "<span class=\"normal\">10</span>\n",
              "<span class=\"normal\">11</span>\n",
              "<span class=\"normal\">12</span>\n",
              "<span class=\"normal\">13</span>\n",
              "<span class=\"normal\">14</span>\n",
              "<span class=\"normal\">15</span></pre></div></td><td class=\"code\"><div><pre><span></span><span class=\"cp\">&lt;!DOCTYPE news SYSTEM &quot;domain.dtd&quot;&gt;</span>\n",
              "<span class=\"nt\">&lt;news&gt;</span>\n",
              "<span class=\"w\">  </span><span class=\"nt\">&lt;title&gt;</span>AI<span class=\"w\"> </span>Beats<span class=\"w\"> </span>Human<span class=\"w\"> </span>at<span class=\"w\"> </span>Strategy<span class=\"w\"> </span>Game<span class=\"nt\">&lt;/title&gt;</span>\n",
              "<span class=\"w\">  </span><span class=\"nt\">&lt;category&gt;</span>Technology<span class=\"nt\">&lt;/category&gt;</span>\n",
              "<span class=\"w\">  </span><span class=\"nt\">&lt;publishTime&gt;</span>2025-08-31T09:00:00Z<span class=\"nt\">&lt;/publishTime&gt;</span>\n",
              "<span class=\"w\">  </span><span class=\"nt\">&lt;engagement&gt;</span>\n",
              "<span class=\"w\">    </span><span class=\"nt\">&lt;views&gt;</span>15000<span class=\"nt\">&lt;/views&gt;</span>\n",
              "<span class=\"w\">    </span><span class=\"nt\">&lt;shares&gt;</span>600<span class=\"nt\">&lt;/shares&gt;</span>\n",
              "<span class=\"w\">  </span><span class=\"nt\">&lt;/engagement&gt;</span>\n",
              "<span class=\"w\">  </span><span class=\"nt\">&lt;source&gt;</span>\n",
              "<span class=\"w\">    </span><span class=\"nt\">&lt;name&gt;</span>BBC<span class=\"w\"> </span>News<span class=\"nt\">&lt;/name&gt;</span>\n",
              "<span class=\"w\">    </span><span class=\"nt\">&lt;credibility&gt;</span>high<span class=\"nt\">&lt;/credibility&gt;</span>\n",
              "<span class=\"w\">  </span><span class=\"nt\">&lt;/source&gt;</span>\n",
              "<span class=\"w\">  </span><span class=\"nt\">&lt;sentiment&gt;</span>neutral<span class=\"nt\">&lt;/sentiment&gt;</span>\n",
              "<span class=\"nt\">&lt;/news&gt;</span>\n",
              "</pre></div></td></tr></table></div>\n",
              "</div>"
            ]
          },
          "metadata": {}
        }
      ]
    },
    {
      "cell_type": "markdown",
      "source": [
        "# Display Varient"
      ],
      "metadata": {
        "id": "DaAeBhTa0x6_"
      }
    },
    {
      "cell_type": "code",
      "source": [
        "def show_collapsible(title: str, text: str, lexer, open_default=False):\n",
        "    fmt = HtmlFormatter(linenos=\"table\", style=\"friendly\")\n",
        "    css = fmt.get_style_defs('.highlight')\n",
        "    details_attr = \"open\" if open_default else \"\"\n",
        "    html = f\"\"\"\n",
        "    <style>{css}</style>\n",
        "    <details {details_attr} style=\"margin:6px 0\">\n",
        "      <summary style=\"cursor:pointer;font-weight:600\">{title}</summary>\n",
        "      <div style=\"border:1px solid #e5e7eb;border-radius:10px;overflow:auto;max-height:520px;margin-top:8px\">\n",
        "        {highlight(text, lexer, fmt)}\n",
        "      </div>\n",
        "    </details>\n",
        "    \"\"\"\n",
        "    display(HTML(html))\n",
        "\n",
        "show_collapsible(\"example.xml (pretty-printed)\", pretty_xml_text(\"example.xml\"), XmlLexer(), open_default=True)\n",
        "show_collapsible(\"shorts.dtd\", open(\"shorts.dtd\", encoding=\"utf-8\").read(), DtdLexer())"
      ],
      "metadata": {
        "colab": {
          "base_uri": "https://localhost:8080/",
          "height": 366
        },
        "id": "buFBvhsO093U",
        "outputId": "1923cf32-e259-49db-93f2-b8f9d466645f"
      },
      "execution_count": null,
      "outputs": [
        {
          "output_type": "display_data",
          "data": {
            "text/plain": [
              "<IPython.core.display.HTML object>"
            ],
            "text/html": [
              "\n",
              "    <style>pre { line-height: 125%; }\n",
              "td.linenos .normal { color: #666666; background-color: transparent; padding-left: 5px; padding-right: 5px; }\n",
              "span.linenos { color: #666666; background-color: transparent; padding-left: 5px; padding-right: 5px; }\n",
              "td.linenos .special { color: #000000; background-color: #ffffc0; padding-left: 5px; padding-right: 5px; }\n",
              "span.linenos.special { color: #000000; background-color: #ffffc0; padding-left: 5px; padding-right: 5px; }\n",
              ".highlight .hll { background-color: #ffffcc }\n",
              ".highlight { background: #f0f0f0; }\n",
              ".highlight .c { color: #60A0B0; font-style: italic } /* Comment */\n",
              ".highlight .err { border: 1px solid #F00 } /* Error */\n",
              ".highlight .k { color: #007020; font-weight: bold } /* Keyword */\n",
              ".highlight .o { color: #666 } /* Operator */\n",
              ".highlight .ch { color: #60A0B0; font-style: italic } /* Comment.Hashbang */\n",
              ".highlight .cm { color: #60A0B0; font-style: italic } /* Comment.Multiline */\n",
              ".highlight .cp { color: #007020 } /* Comment.Preproc */\n",
              ".highlight .cpf { color: #60A0B0; font-style: italic } /* Comment.PreprocFile */\n",
              ".highlight .c1 { color: #60A0B0; font-style: italic } /* Comment.Single */\n",
              ".highlight .cs { color: #60A0B0; background-color: #FFF0F0 } /* Comment.Special */\n",
              ".highlight .gd { color: #A00000 } /* Generic.Deleted */\n",
              ".highlight .ge { font-style: italic } /* Generic.Emph */\n",
              ".highlight .ges { font-weight: bold; font-style: italic } /* Generic.EmphStrong */\n",
              ".highlight .gr { color: #F00 } /* Generic.Error */\n",
              ".highlight .gh { color: #000080; font-weight: bold } /* Generic.Heading */\n",
              ".highlight .gi { color: #00A000 } /* Generic.Inserted */\n",
              ".highlight .go { color: #888 } /* Generic.Output */\n",
              ".highlight .gp { color: #C65D09; font-weight: bold } /* Generic.Prompt */\n",
              ".highlight .gs { font-weight: bold } /* Generic.Strong */\n",
              ".highlight .gu { color: #800080; font-weight: bold } /* Generic.Subheading */\n",
              ".highlight .gt { color: #04D } /* Generic.Traceback */\n",
              ".highlight .kc { color: #007020; font-weight: bold } /* Keyword.Constant */\n",
              ".highlight .kd { color: #007020; font-weight: bold } /* Keyword.Declaration */\n",
              ".highlight .kn { color: #007020; font-weight: bold } /* Keyword.Namespace */\n",
              ".highlight .kp { color: #007020 } /* Keyword.Pseudo */\n",
              ".highlight .kr { color: #007020; font-weight: bold } /* Keyword.Reserved */\n",
              ".highlight .kt { color: #902000 } /* Keyword.Type */\n",
              ".highlight .m { color: #40A070 } /* Literal.Number */\n",
              ".highlight .s { color: #4070A0 } /* Literal.String */\n",
              ".highlight .na { color: #4070A0 } /* Name.Attribute */\n",
              ".highlight .nb { color: #007020 } /* Name.Builtin */\n",
              ".highlight .nc { color: #0E84B5; font-weight: bold } /* Name.Class */\n",
              ".highlight .no { color: #60ADD5 } /* Name.Constant */\n",
              ".highlight .nd { color: #555; font-weight: bold } /* Name.Decorator */\n",
              ".highlight .ni { color: #D55537; font-weight: bold } /* Name.Entity */\n",
              ".highlight .ne { color: #007020 } /* Name.Exception */\n",
              ".highlight .nf { color: #06287E } /* Name.Function */\n",
              ".highlight .nl { color: #002070; font-weight: bold } /* Name.Label */\n",
              ".highlight .nn { color: #0E84B5; font-weight: bold } /* Name.Namespace */\n",
              ".highlight .nt { color: #062873; font-weight: bold } /* Name.Tag */\n",
              ".highlight .nv { color: #BB60D5 } /* Name.Variable */\n",
              ".highlight .ow { color: #007020; font-weight: bold } /* Operator.Word */\n",
              ".highlight .w { color: #BBB } /* Text.Whitespace */\n",
              ".highlight .mb { color: #40A070 } /* Literal.Number.Bin */\n",
              ".highlight .mf { color: #40A070 } /* Literal.Number.Float */\n",
              ".highlight .mh { color: #40A070 } /* Literal.Number.Hex */\n",
              ".highlight .mi { color: #40A070 } /* Literal.Number.Integer */\n",
              ".highlight .mo { color: #40A070 } /* Literal.Number.Oct */\n",
              ".highlight .sa { color: #4070A0 } /* Literal.String.Affix */\n",
              ".highlight .sb { color: #4070A0 } /* Literal.String.Backtick */\n",
              ".highlight .sc { color: #4070A0 } /* Literal.String.Char */\n",
              ".highlight .dl { color: #4070A0 } /* Literal.String.Delimiter */\n",
              ".highlight .sd { color: #4070A0; font-style: italic } /* Literal.String.Doc */\n",
              ".highlight .s2 { color: #4070A0 } /* Literal.String.Double */\n",
              ".highlight .se { color: #4070A0; font-weight: bold } /* Literal.String.Escape */\n",
              ".highlight .sh { color: #4070A0 } /* Literal.String.Heredoc */\n",
              ".highlight .si { color: #70A0D0; font-style: italic } /* Literal.String.Interpol */\n",
              ".highlight .sx { color: #C65D09 } /* Literal.String.Other */\n",
              ".highlight .sr { color: #235388 } /* Literal.String.Regex */\n",
              ".highlight .s1 { color: #4070A0 } /* Literal.String.Single */\n",
              ".highlight .ss { color: #517918 } /* Literal.String.Symbol */\n",
              ".highlight .bp { color: #007020 } /* Name.Builtin.Pseudo */\n",
              ".highlight .fm { color: #06287E } /* Name.Function.Magic */\n",
              ".highlight .vc { color: #BB60D5 } /* Name.Variable.Class */\n",
              ".highlight .vg { color: #BB60D5 } /* Name.Variable.Global */\n",
              ".highlight .vi { color: #BB60D5 } /* Name.Variable.Instance */\n",
              ".highlight .vm { color: #BB60D5 } /* Name.Variable.Magic */\n",
              ".highlight .il { color: #40A070 } /* Literal.Number.Integer.Long */</style>\n",
              "    <details open style=\"margin:6px 0\">\n",
              "      <summary style=\"cursor:pointer;font-weight:600\">example.xml (pretty-printed)</summary>\n",
              "      <div style=\"border:1px solid #e5e7eb;border-radius:10px;overflow:auto;max-height:520px;margin-top:8px\">\n",
              "        <div class=\"highlight\"><table class=\"highlighttable\"><tr><td class=\"linenos\"><div class=\"linenodiv\"><pre><span class=\"normal\"> 1</span>\n",
              "<span class=\"normal\"> 2</span>\n",
              "<span class=\"normal\"> 3</span>\n",
              "<span class=\"normal\"> 4</span>\n",
              "<span class=\"normal\"> 5</span>\n",
              "<span class=\"normal\"> 6</span>\n",
              "<span class=\"normal\"> 7</span>\n",
              "<span class=\"normal\"> 8</span>\n",
              "<span class=\"normal\"> 9</span>\n",
              "<span class=\"normal\">10</span>\n",
              "<span class=\"normal\">11</span>\n",
              "<span class=\"normal\">12</span>\n",
              "<span class=\"normal\">13</span>\n",
              "<span class=\"normal\">14</span>\n",
              "<span class=\"normal\">15</span>\n",
              "<span class=\"normal\">16</span></pre></div></td><td class=\"code\"><div><pre><span></span><span class=\"cp\">&lt;!DOCTYPE news SYSTEM &quot;domain.dtd&quot;&gt;</span>\n",
              "<span class=\"nt\">&lt;news&gt;</span>\n",
              "<span class=\"w\">  </span><span class=\"nt\">&lt;title&gt;</span>AI<span class=\"w\"> </span>Beats<span class=\"w\"> </span>Human<span class=\"w\"> </span>at<span class=\"w\"> </span>Strategy<span class=\"w\"> </span>Game<span class=\"nt\">&lt;/title&gt;</span>\n",
              "<span class=\"w\">  </span><span class=\"nt\">&lt;summary&gt;</span>An<span class=\"w\"> </span>AI<span class=\"w\"> </span>system<span class=\"w\"> </span>has<span class=\"w\"> </span>defeated<span class=\"w\"> </span>top<span class=\"w\"> </span>players<span class=\"w\"> </span>in<span class=\"w\"> </span>a<span class=\"w\"> </span>new<span class=\"w\"> </span>strategy<span class=\"w\"> </span>game,<span class=\"w\"> </span>raising<span class=\"w\"> </span>questions<span class=\"w\"> </span>about<span class=\"w\"> </span>AI<span class=\"w\"> </span>potential.<span class=\"nt\">&lt;/summary&gt;</span>\n",
              "<span class=\"w\">  </span><span class=\"nt\">&lt;category&gt;</span>Technology<span class=\"nt\">&lt;/category&gt;</span>\n",
              "<span class=\"w\">  </span><span class=\"nt\">&lt;publishTime&gt;</span>2025-08-31T09:00:00Z<span class=\"nt\">&lt;/publishTime&gt;</span>\n",
              "<span class=\"w\">  </span><span class=\"nt\">&lt;engagement&gt;</span>\n",
              "<span class=\"w\">    </span><span class=\"nt\">&lt;views&gt;</span>15000<span class=\"nt\">&lt;/views&gt;</span>\n",
              "<span class=\"w\">    </span><span class=\"nt\">&lt;shares&gt;</span>600<span class=\"nt\">&lt;/shares&gt;</span>\n",
              "<span class=\"w\">  </span><span class=\"nt\">&lt;/engagement&gt;</span>\n",
              "<span class=\"w\">  </span><span class=\"nt\">&lt;source&gt;</span>\n",
              "<span class=\"w\">    </span><span class=\"nt\">&lt;name&gt;</span>BBC<span class=\"w\"> </span>News<span class=\"nt\">&lt;/name&gt;</span>\n",
              "<span class=\"w\">    </span><span class=\"nt\">&lt;credibility&gt;</span>high<span class=\"nt\">&lt;/credibility&gt;</span>\n",
              "<span class=\"w\">  </span><span class=\"nt\">&lt;/source&gt;</span>\n",
              "<span class=\"w\">  </span><span class=\"nt\">&lt;sentiment&gt;</span>neutral<span class=\"nt\">&lt;/sentiment&gt;</span>\n",
              "<span class=\"nt\">&lt;/news&gt;</span>\n",
              "</pre></div></td></tr></table></div>\n",
              "\n",
              "      </div>\n",
              "    </details>\n",
              "    "
            ]
          },
          "metadata": {}
        },
        {
          "output_type": "display_data",
          "data": {
            "text/plain": [
              "<IPython.core.display.HTML object>"
            ],
            "text/html": [
              "\n",
              "    <style>pre { line-height: 125%; }\n",
              "td.linenos .normal { color: #666666; background-color: transparent; padding-left: 5px; padding-right: 5px; }\n",
              "span.linenos { color: #666666; background-color: transparent; padding-left: 5px; padding-right: 5px; }\n",
              "td.linenos .special { color: #000000; background-color: #ffffc0; padding-left: 5px; padding-right: 5px; }\n",
              "span.linenos.special { color: #000000; background-color: #ffffc0; padding-left: 5px; padding-right: 5px; }\n",
              ".highlight .hll { background-color: #ffffcc }\n",
              ".highlight { background: #f0f0f0; }\n",
              ".highlight .c { color: #60A0B0; font-style: italic } /* Comment */\n",
              ".highlight .err { border: 1px solid #F00 } /* Error */\n",
              ".highlight .k { color: #007020; font-weight: bold } /* Keyword */\n",
              ".highlight .o { color: #666 } /* Operator */\n",
              ".highlight .ch { color: #60A0B0; font-style: italic } /* Comment.Hashbang */\n",
              ".highlight .cm { color: #60A0B0; font-style: italic } /* Comment.Multiline */\n",
              ".highlight .cp { color: #007020 } /* Comment.Preproc */\n",
              ".highlight .cpf { color: #60A0B0; font-style: italic } /* Comment.PreprocFile */\n",
              ".highlight .c1 { color: #60A0B0; font-style: italic } /* Comment.Single */\n",
              ".highlight .cs { color: #60A0B0; background-color: #FFF0F0 } /* Comment.Special */\n",
              ".highlight .gd { color: #A00000 } /* Generic.Deleted */\n",
              ".highlight .ge { font-style: italic } /* Generic.Emph */\n",
              ".highlight .ges { font-weight: bold; font-style: italic } /* Generic.EmphStrong */\n",
              ".highlight .gr { color: #F00 } /* Generic.Error */\n",
              ".highlight .gh { color: #000080; font-weight: bold } /* Generic.Heading */\n",
              ".highlight .gi { color: #00A000 } /* Generic.Inserted */\n",
              ".highlight .go { color: #888 } /* Generic.Output */\n",
              ".highlight .gp { color: #C65D09; font-weight: bold } /* Generic.Prompt */\n",
              ".highlight .gs { font-weight: bold } /* Generic.Strong */\n",
              ".highlight .gu { color: #800080; font-weight: bold } /* Generic.Subheading */\n",
              ".highlight .gt { color: #04D } /* Generic.Traceback */\n",
              ".highlight .kc { color: #007020; font-weight: bold } /* Keyword.Constant */\n",
              ".highlight .kd { color: #007020; font-weight: bold } /* Keyword.Declaration */\n",
              ".highlight .kn { color: #007020; font-weight: bold } /* Keyword.Namespace */\n",
              ".highlight .kp { color: #007020 } /* Keyword.Pseudo */\n",
              ".highlight .kr { color: #007020; font-weight: bold } /* Keyword.Reserved */\n",
              ".highlight .kt { color: #902000 } /* Keyword.Type */\n",
              ".highlight .m { color: #40A070 } /* Literal.Number */\n",
              ".highlight .s { color: #4070A0 } /* Literal.String */\n",
              ".highlight .na { color: #4070A0 } /* Name.Attribute */\n",
              ".highlight .nb { color: #007020 } /* Name.Builtin */\n",
              ".highlight .nc { color: #0E84B5; font-weight: bold } /* Name.Class */\n",
              ".highlight .no { color: #60ADD5 } /* Name.Constant */\n",
              ".highlight .nd { color: #555; font-weight: bold } /* Name.Decorator */\n",
              ".highlight .ni { color: #D55537; font-weight: bold } /* Name.Entity */\n",
              ".highlight .ne { color: #007020 } /* Name.Exception */\n",
              ".highlight .nf { color: #06287E } /* Name.Function */\n",
              ".highlight .nl { color: #002070; font-weight: bold } /* Name.Label */\n",
              ".highlight .nn { color: #0E84B5; font-weight: bold } /* Name.Namespace */\n",
              ".highlight .nt { color: #062873; font-weight: bold } /* Name.Tag */\n",
              ".highlight .nv { color: #BB60D5 } /* Name.Variable */\n",
              ".highlight .ow { color: #007020; font-weight: bold } /* Operator.Word */\n",
              ".highlight .w { color: #BBB } /* Text.Whitespace */\n",
              ".highlight .mb { color: #40A070 } /* Literal.Number.Bin */\n",
              ".highlight .mf { color: #40A070 } /* Literal.Number.Float */\n",
              ".highlight .mh { color: #40A070 } /* Literal.Number.Hex */\n",
              ".highlight .mi { color: #40A070 } /* Literal.Number.Integer */\n",
              ".highlight .mo { color: #40A070 } /* Literal.Number.Oct */\n",
              ".highlight .sa { color: #4070A0 } /* Literal.String.Affix */\n",
              ".highlight .sb { color: #4070A0 } /* Literal.String.Backtick */\n",
              ".highlight .sc { color: #4070A0 } /* Literal.String.Char */\n",
              ".highlight .dl { color: #4070A0 } /* Literal.String.Delimiter */\n",
              ".highlight .sd { color: #4070A0; font-style: italic } /* Literal.String.Doc */\n",
              ".highlight .s2 { color: #4070A0 } /* Literal.String.Double */\n",
              ".highlight .se { color: #4070A0; font-weight: bold } /* Literal.String.Escape */\n",
              ".highlight .sh { color: #4070A0 } /* Literal.String.Heredoc */\n",
              ".highlight .si { color: #70A0D0; font-style: italic } /* Literal.String.Interpol */\n",
              ".highlight .sx { color: #C65D09 } /* Literal.String.Other */\n",
              ".highlight .sr { color: #235388 } /* Literal.String.Regex */\n",
              ".highlight .s1 { color: #4070A0 } /* Literal.String.Single */\n",
              ".highlight .ss { color: #517918 } /* Literal.String.Symbol */\n",
              ".highlight .bp { color: #007020 } /* Name.Builtin.Pseudo */\n",
              ".highlight .fm { color: #06287E } /* Name.Function.Magic */\n",
              ".highlight .vc { color: #BB60D5 } /* Name.Variable.Class */\n",
              ".highlight .vg { color: #BB60D5 } /* Name.Variable.Global */\n",
              ".highlight .vi { color: #BB60D5 } /* Name.Variable.Instance */\n",
              ".highlight .vm { color: #BB60D5 } /* Name.Variable.Magic */\n",
              ".highlight .il { color: #40A070 } /* Literal.Number.Integer.Long */</style>\n",
              "    <details  style=\"margin:6px 0\">\n",
              "      <summary style=\"cursor:pointer;font-weight:600\">shorts.dtd</summary>\n",
              "      <div style=\"border:1px solid #e5e7eb;border-radius:10px;overflow:auto;max-height:520px;margin-top:8px\">\n",
              "        <div class=\"highlight\"><table class=\"highlighttable\"><tr><td class=\"linenos\"><div class=\"linenodiv\"><pre><span class=\"normal\"> 1</span>\n",
              "<span class=\"normal\"> 2</span>\n",
              "<span class=\"normal\"> 3</span>\n",
              "<span class=\"normal\"> 4</span>\n",
              "<span class=\"normal\"> 5</span>\n",
              "<span class=\"normal\"> 6</span>\n",
              "<span class=\"normal\"> 7</span>\n",
              "<span class=\"normal\"> 8</span>\n",
              "<span class=\"normal\"> 9</span>\n",
              "<span class=\"normal\">10</span>\n",
              "<span class=\"normal\">11</span>\n",
              "<span class=\"normal\">12</span></pre></div></td><td class=\"code\"><div><pre><span></span><span class=\"k\">&lt;!ELEMENT</span> <span class=\"nt\">news</span> <span class=\"o\">(</span><span class=\"nt\">title</span><span class=\"o\">,</span> <span class=\"nt\">summary</span><span class=\"o\">,</span> <span class=\"nt\">category</span><span class=\"o\">,</span> <span class=\"nt\">publishTime</span><span class=\"o\">,</span> <span class=\"nt\">engagement</span><span class=\"o\">,</span> <span class=\"nt\">source</span><span class=\"o\">,</span> <span class=\"nt\">sentiment</span><span class=\"o\">)</span><span class=\"k\">&gt;</span>\n",
              "<span class=\"k\">&lt;!ELEMENT</span> <span class=\"nt\">title</span> <span class=\"o\">(</span><span class=\"kc\">#PCDATA</span><span class=\"o\">)</span><span class=\"k\">&gt;</span>\n",
              "<span class=\"k\">&lt;!ELEMENT</span> <span class=\"nt\">summary</span> <span class=\"o\">(</span><span class=\"kc\">#PCDATA</span><span class=\"o\">)</span><span class=\"k\">&gt;</span>\n",
              "<span class=\"k\">&lt;!ELEMENT</span> <span class=\"nt\">category</span> <span class=\"o\">(</span><span class=\"kc\">#PCDATA</span><span class=\"o\">)</span><span class=\"k\">&gt;</span>\n",
              "<span class=\"k\">&lt;!ELEMENT</span> <span class=\"nt\">publishTime</span> <span class=\"o\">(</span><span class=\"kc\">#PCDATA</span><span class=\"o\">)</span><span class=\"k\">&gt;</span>\n",
              "<span class=\"k\">&lt;!ELEMENT</span> <span class=\"nt\">engagement</span> <span class=\"o\">(</span><span class=\"nt\">views</span><span class=\"o\">,</span> <span class=\"nt\">shares</span><span class=\"o\">)</span><span class=\"k\">&gt;</span>\n",
              "<span class=\"k\">&lt;!ELEMENT</span> <span class=\"nt\">views</span> <span class=\"o\">(</span><span class=\"kc\">#PCDATA</span><span class=\"o\">)</span><span class=\"k\">&gt;</span>\n",
              "<span class=\"k\">&lt;!ELEMENT</span> <span class=\"nt\">shares</span> <span class=\"o\">(</span><span class=\"kc\">#PCDATA</span><span class=\"o\">)</span><span class=\"k\">&gt;</span>\n",
              "<span class=\"k\">&lt;!ELEMENT</span> <span class=\"nt\">source</span> <span class=\"o\">(</span><span class=\"nt\">name</span><span class=\"o\">,</span> <span class=\"nt\">credibility</span><span class=\"o\">)</span><span class=\"k\">&gt;</span>\n",
              "<span class=\"k\">&lt;!ELEMENT</span> <span class=\"nt\">name</span> <span class=\"o\">(</span><span class=\"kc\">#PCDATA</span><span class=\"o\">)</span><span class=\"k\">&gt;</span>\n",
              "<span class=\"k\">&lt;!ELEMENT</span> <span class=\"nt\">credibility</span> <span class=\"o\">(</span><span class=\"kc\">#PCDATA</span><span class=\"o\">)</span><span class=\"k\">&gt;</span>\n",
              "<span class=\"k\">&lt;!ELEMENT</span> <span class=\"nt\">sentiment</span> <span class=\"o\">(</span><span class=\"kc\">#PCDATA</span><span class=\"o\">)</span><span class=\"k\">&gt;</span>\n",
              "</pre></div></td></tr></table></div>\n",
              "\n",
              "      </div>\n",
              "    </details>\n",
              "    "
            ]
          },
          "metadata": {}
        }
      ]
    },
    {
      "cell_type": "code",
      "source": [
        "from lxml import etree\n",
        "\n",
        "with open(\"shorts.dtd\",\"rb\") as f:\n",
        "    dtd = etree.DTD(f)\n",
        "\n",
        "tree_ok = etree.parse(\"example.xml\")\n",
        "tree_bad = etree.parse(\"broken_example.xml\")\n",
        "\n",
        "print(\"example.xml →\", \"VALID ✅\" if dtd.validate(tree_ok) else \"NOT valid ❌\")\n",
        "print(\"broken_example.xml →\", \"VALID ✅\" if dtd.validate(tree_bad) else \"NOT valid ❌\")\n",
        "if not dtd.validate(tree_bad):\n",
        "    # Show the last few errors for teaching\n",
        "    for e in list(dtd.error_log)[-5:]:\n",
        "        print(\"•\", e)"
      ],
      "metadata": {
        "colab": {
          "base_uri": "https://localhost:8080/"
        },
        "id": "NO81Sv-01WJV",
        "outputId": "fc2b4d60-99ed-4d90-a6a9-8b0eac64758a"
      },
      "execution_count": null,
      "outputs": [
        {
          "output_type": "stream",
          "name": "stdout",
          "text": [
            "example.xml → VALID ✅\n",
            "broken_example.xml → NOT valid ❌\n",
            "• broken_example.xml:3:0:ERROR:VALID:DTD_CONTENT_MODEL: Element news content does not follow the DTD, expecting (title , summary , category , publishTime , engagement , source , sentiment), got (title category publishTime engagement source sentiment )\n"
          ]
        }
      ]
    }
  ]
}